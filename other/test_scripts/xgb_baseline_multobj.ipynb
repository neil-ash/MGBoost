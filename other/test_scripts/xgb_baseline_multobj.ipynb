{
 "cells": [
  {
   "cell_type": "markdown",
   "metadata": {},
   "source": [
    "## XGBoost models trained on each multiobjective independently\n",
    "\n",
    "Serves as a baseline to compare against MGBoost.\n",
    "\n",
    "**Note: important to be in base environment (NOT ModXGBoost) when running this notebook.**"
   ]
  },
  {
   "cell_type": "code",
   "execution_count": 1,
   "metadata": {},
   "outputs": [],
   "source": [
    "# Imports\n",
    "import numpy as np\n",
    "from xgboost import XGBRegressor\n",
    "from sklearn.metrics import mean_squared_error"
   ]
  },
  {
   "cell_type": "code",
   "execution_count": 2,
   "metadata": {},
   "outputs": [],
   "source": [
    "path = '/Users/Ashtekar15/Desktop/Thesis/multiobj_data/'\n",
    "\n",
    "X = np.load(path + 'X_multiobj.npy')\n",
    "y = np.load(path + 'y_multiobj.npy')"
   ]
  },
  {
   "cell_type": "code",
   "execution_count": 3,
   "metadata": {},
   "outputs": [],
   "source": [
    "def fobj(y_true, y_pred):\n",
    "    \"\"\"\n",
    "    'Custom' objective function (simply squared error)\n",
    "    Needed in order to execute correct code in Booster.update()\n",
    "    \"\"\"\n",
    "    #print('Custom objective function executing')\n",
    "    grad = 2 * (y_pred - y_true)\n",
    "    hess = 2 * np.ones(y_true.shape)\n",
    "    return grad, hess"
   ]
  },
  {
   "cell_type": "code",
   "execution_count": 8,
   "metadata": {
    "collapsed": true
   },
   "outputs": [
    {
     "name": "stderr",
     "output_type": "stream",
     "text": [
      "/Users/Ashtekar15/anaconda3/lib/python3.6/site-packages/xgboost/core.py:614: UserWarning: Use subset (sliced data) of np.ndarray is not recommended because it will generate extra copies and increase memory consumption\n",
      "  \"because it will generate extra copies and increase memory consumption\")\n"
     ]
    },
    {
     "name": "stdout",
     "output_type": "stream",
     "text": [
      "[18:40:03] WARNING: src/objective/regression_obj.cu:152: reg:linear is now deprecated in favor of reg:squarederror.\n"
     ]
    },
    {
     "name": "stderr",
     "output_type": "stream",
     "text": [
      "/Users/Ashtekar15/anaconda3/lib/python3.6/site-packages/xgboost/core.py:614: UserWarning: Use subset (sliced data) of np.ndarray is not recommended because it will generate extra copies and increase memory consumption\n",
      "  \"because it will generate extra copies and increase memory consumption\")\n"
     ]
    },
    {
     "name": "stdout",
     "output_type": "stream",
     "text": [
      "[18:40:03] WARNING: src/objective/regression_obj.cu:152: reg:linear is now deprecated in favor of reg:squarederror.\n"
     ]
    },
    {
     "name": "stderr",
     "output_type": "stream",
     "text": [
      "/Users/Ashtekar15/anaconda3/lib/python3.6/site-packages/xgboost/core.py:614: UserWarning: Use subset (sliced data) of np.ndarray is not recommended because it will generate extra copies and increase memory consumption\n",
      "  \"because it will generate extra copies and increase memory consumption\")\n"
     ]
    },
    {
     "name": "stdout",
     "output_type": "stream",
     "text": [
      "[18:40:04] WARNING: src/objective/regression_obj.cu:152: reg:linear is now deprecated in favor of reg:squarederror.\n"
     ]
    },
    {
     "name": "stderr",
     "output_type": "stream",
     "text": [
      "/Users/Ashtekar15/anaconda3/lib/python3.6/site-packages/xgboost/core.py:614: UserWarning: Use subset (sliced data) of np.ndarray is not recommended because it will generate extra copies and increase memory consumption\n",
      "  \"because it will generate extra copies and increase memory consumption\")\n"
     ]
    },
    {
     "name": "stdout",
     "output_type": "stream",
     "text": [
      "[18:40:05] WARNING: src/objective/regression_obj.cu:152: reg:linear is now deprecated in favor of reg:squarederror.\n"
     ]
    }
   ],
   "source": [
    "xgbr = XGBRegressor(max_depth=6,\n",
    "                    n_estimators=100,\n",
    "                    objective=fobj)\n",
    "\n",
    "RMSE_ls = []\n",
    "mean_ls = []\n",
    "for i in range(4):\n",
    "    xgbr.fit(X, y[:, i])\n",
    "    y_pred = xgbr.predict(X)\n",
    "    RMSE_ls.append(mean_squared_error(y[:, i], y_pred))\n",
    "    mean_ls.append(np.mean(y[:, i] - y_pred))"
   ]
  },
  {
   "cell_type": "code",
   "execution_count": 7,
   "metadata": {},
   "outputs": [
    {
     "name": "stdout",
     "output_type": "stream",
     "text": [
      "obj\tRMSE\tmean(y - y_pred)\n",
      "1\t0.24\t-0.00\n",
      "2\t0.31\t0.00\n",
      "3\t0.19\t0.00\n",
      "4\t0.21\t0.00\n"
     ]
    }
   ],
   "source": [
    "print('obj\\tRMSE\\tmean(y - y_pred)')\n",
    "for i in range(4):\n",
    "    print('%d\\t%.2f\\t%.2f' % (i + 1, np.sqrt(RMSE_ls[i]), mean_ls[i]))"
   ]
  }
 ],
 "metadata": {
  "kernelspec": {
   "display_name": "Python 3",
   "language": "python",
   "name": "python3"
  },
  "language_info": {
   "codemirror_mode": {
    "name": "ipython",
    "version": 3
   },
   "file_extension": ".py",
   "mimetype": "text/x-python",
   "name": "python",
   "nbconvert_exporter": "python",
   "pygments_lexer": "ipython3",
   "version": "3.6.9"
  }
 },
 "nbformat": 4,
 "nbformat_minor": 2
}

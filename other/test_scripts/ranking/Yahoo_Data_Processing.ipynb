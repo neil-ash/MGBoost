{
 "cells": [
  {
   "cell_type": "markdown",
   "metadata": {},
   "source": [
    "# Yahoo Data Processing\n",
    "\n",
    "Testing the performance of various feature configurations when using DeltaMART with the Yahoo LETOR dataset (train/validation/test split):\n",
    "\n",
    "https://github.com/QingyaoAi/Unbiased-Learning-to-Rank-with-Unbiased-Propensity-Estimation\n",
    "\n",
    "Only using a small subset of queries (?)"
   ]
  },
  {
   "cell_type": "code",
   "execution_count": 1,
   "metadata": {},
   "outputs": [],
   "source": [
    "import data_utils  # To load Yahoo dataset\n",
    "import numpy as np\n",
    "import pandas as pd\n",
    "from xgboost import XGBRegressor\n",
    "from scipy.special import expit  # Logistic function\n",
    "from rank_metrics import ndcg_at_k, mean_average_precision"
   ]
  },
  {
   "cell_type": "markdown",
   "metadata": {},
   "source": [
    "## Exploration"
   ]
  },
  {
   "cell_type": "markdown",
   "metadata": {},
   "source": [
    "### Raw data\n",
    "\n",
    "#### Features: train.feature\n",
    "\n",
    "Description: \"test_2_5\" means the 5th document for the query with identifier \"2\" in the original test set of the Yahoo letor data.\n",
    "\n",
    "Interpretation: first value is test_queryNum_docNum, rest are feature values (svm_light format?)\n",
    "\n",
    "****\n",
    "\n",
    "#### Labels: train.weights\n",
    "\n",
    "Description: The annotated relevance value for documents in the initial list of each query.\n",
    "\n",
    "Interpretation: first value is queryNum (query_id), rest are labels for URLs at corresponding indexes"
   ]
  },
  {
   "cell_type": "code",
   "execution_count": null,
   "metadata": {},
   "outputs": [],
   "source": [
    "data = data_utils.read_data(data_path='/Users/Ashtekar15/Desktop/Thesis/MGBoost/other/test_data/generate_dataset/',\n",
    "                            file_prefix='valid')"
   ]
  },
  {
   "cell_type": "markdown",
   "metadata": {},
   "source": [
    "### Stats for validation set\n",
    "\n",
    "**dids** (71083): valid_19945_15..., stores query/URL id info\n",
    "\n",
    "**qids** (2994): stores query id info\n",
    "\n",
    "**features** (71083): list of lists, each sublist is a given query/URL pair (sublist len 700)\n",
    "\n",
    "**gold_weights** (2994): list of lists, each sublist is the labels for URLs of a single query (sublist len varies)"
   ]
  },
  {
   "cell_type": "markdown",
   "metadata": {},
   "source": [
    "### Planning"
   ]
  },
  {
   "cell_type": "code",
   "execution_count": null,
   "metadata": {},
   "outputs": [],
   "source": [
    "# Num queries in train/val/test (should be 29921)\n",
    "19944 + 2994 + 6983"
   ]
  },
  {
   "cell_type": "code",
   "execution_count": null,
   "metadata": {
    "scrolled": false
   },
   "outputs": [],
   "source": [
    "# Get info on number of URLs/query\n",
    "lls = []\n",
    "\n",
    "for ls in data.gold_weights:\n",
    "    lls.append(len(ls))\n",
    "\n",
    "np.mean(lls), np.std(lls), min(lls), max(lls),"
   ]
  },
  {
   "cell_type": "code",
   "execution_count": null,
   "metadata": {},
   "outputs": [],
   "source": [
    "# Solve for num_queries\n",
    "num_queries = 10\n",
    "\n",
    "mean = np.mean(lls)\n",
    "\n",
    "# (Estimated) total size in GB with given num_queries\n",
    "(700 * 3) * (mean ** 2) * num_queries * 64 / (10 ** 9)"
   ]
  },
  {
   "cell_type": "code",
   "execution_count": null,
   "metadata": {},
   "outputs": [],
   "source": [
    "# To get total number of values FOR ENTIRE TRAIN SET thru feature generation\n",
    "total = 0\n",
    "for ls in data.gold_weights:\n",
    "    total += (700 * 3) * (len(ls) ** 2)\n",
    "\n",
    "# Estimation of total size in GB\n",
    "(total * 64) / (10 ** 9)"
   ]
  },
  {
   "cell_type": "markdown",
   "metadata": {},
   "source": [
    "**Plan:**\n",
    "- Convert np arrays to np.float32 (?)\n",
    "    - To save memory/use more training data\n",
    "- Choose 10 queries randomly\n",
    "    - Use seed\n",
    "- Get features and labels corresponding to these queries\n",
    "    - Include query id in features (?)\n",
    "    - data.features, data.goldlist\n",
    "- Generate pairwise features\n",
    "    - Include option for delta_features\n",
    "- Build model/make predictions on validation data"
   ]
  },
  {
   "cell_type": "markdown",
   "metadata": {},
   "source": [
    "## Data Preparation"
   ]
  },
  {
   "cell_type": "code",
   "execution_count": null,
   "metadata": {},
   "outputs": [],
   "source": [
    "# Convert lists to np arrays for faster access\n",
    "\n",
    "# String\n",
    "dids = np.array(data.dids)\n",
    "\n",
    "# String -> int\n",
    "qids = np.array(data.qids, dtype=int)\n",
    "\n",
    "# float64 -> float32\n",
    "features = np.array(data.features, dtype=np.float32)\n",
    "\n",
    "# Since not all sublists of same size\n",
    "gold_weights = np.array([np.array(x, dtype=np.float32) for x in data.gold_weights])"
   ]
  },
  {
   "cell_type": "code",
   "execution_count": null,
   "metadata": {},
   "outputs": [],
   "source": [
    "\"\"\" SAVING ENTIRE DATASET \"\"\"\n",
    "# folder = 'Yahoo_Train//'\n",
    "\n",
    "# np.save(folder + 'dids.npy', dids)\n",
    "# np.save(folder + 'qids.npy', qids)\n",
    "# np.save(folder + 'features.npy', features)\n",
    "# np.save(folder + 'gold_weights.npy', gold_weights)"
   ]
  },
  {
   "cell_type": "markdown",
   "metadata": {},
   "source": [
    "### Run imports and cells below"
   ]
  },
  {
   "cell_type": "code",
   "execution_count": 139,
   "metadata": {},
   "outputs": [],
   "source": [
    "\"\"\" LOADING ENTIRE DATASET \"\"\"\n",
    "folder = 'Yahoo_Val//'\n",
    "\n",
    "dids = np.load(folder + 'dids.npy')\n",
    "qids = np.load(folder + 'qids.npy')\n",
    "features = np.load(folder + 'features.npy')\n",
    "gold_weights = np.load(folder + 'gold_weights.npy')"
   ]
  },
  {
   "cell_type": "code",
   "execution_count": 140,
   "metadata": {},
   "outputs": [],
   "source": [
    "\"\"\" SET SIZE, SEED FOR RANDOM QUERY SELECTION HERE \"\"\"\n",
    "np.random.seed(2)\n",
    "size = 5\n",
    "\n",
    "# Randomly select 10 queries (train) or 5 queries (val)\n",
    "q_choice = np.random.choice(qids, size=size)\n",
    "\n",
    "# Get query id aligned with features\n",
    "query_id = np.array([int(ele.split(\"_\")[1]) for ele in dids])"
   ]
  },
  {
   "cell_type": "code",
   "execution_count": 141,
   "metadata": {},
   "outputs": [],
   "source": [
    "# Get relevant queries, features, and labels\n",
    "q_rel = query_id[np.isin(query_id, q_choice)]\n",
    "feat_rel = features[np.isin(query_id, q_choice)]\n",
    "label_rel = gold_weights[np.isin(qids, q_choice)]\n",
    "\n",
    "# Join subarrays\n",
    "label_rel = np.concatenate(label_rel)\n",
    "\n",
    "# Include query id in features\n",
    "feat_rel = np.hstack((q_rel.reshape(-1, 1), feat_rel))"
   ]
  },
  {
   "cell_type": "code",
   "execution_count": 142,
   "metadata": {},
   "outputs": [],
   "source": [
    "# Important to free up memory\n",
    "# del data\n",
    "del dids, qids, features, gold_weights"
   ]
  },
  {
   "cell_type": "markdown",
   "metadata": {},
   "source": [
    "## Feature Generation"
   ]
  },
  {
   "cell_type": "code",
   "execution_count": 143,
   "metadata": {},
   "outputs": [
    {
     "name": "stdout",
     "output_type": "stream",
     "text": [
      "1\n",
      "2\n",
      "3\n",
      "4\n",
      "5\n"
     ]
    }
   ],
   "source": [
    "\"\"\" SET DELTA FEATURES, REPEAT IMPORTANCE HERE \"\"\"\n",
    "delta_features = True\n",
    "repeat_importance = False\n",
    "\n",
    "n_rows = 0\n",
    "max_diff = 4\n",
    "n_features = 700\n",
    "\n",
    "# Find max possible number of rows: n_queries * (n_urls_per_query ^ 2) * max_repeat_factor\n",
    "for qid in q_choice:\n",
    "    urls_per_query = np.sum(np.isin(q_rel, qid))\n",
    "    \n",
    "    # If not repeating importance, then every query-URL pair only appears once\n",
    "    if repeat_importance:\n",
    "        n_rows += (urls_per_query ** 2) * max_diff\n",
    "    else:\n",
    "        n_rows += (urls_per_query ** 2)\n",
    "    \n",
    "# Add extra set of columns if delta_features, + 2 for (query_id, label)\n",
    "if delta_features:\n",
    "    n_columns = (n_features * 3) + 2\n",
    "else:\n",
    "    n_columns = (n_features * 2) + 2\n",
    "\n",
    "# Create array to fill in later (faster), step thru with idx\n",
    "features = np.full(shape=(n_rows, n_columns), fill_value=np.nan)\n",
    "idx = 0\n",
    "\n",
    "# Iter thru queries\n",
    "for progress, qid in enumerate(q_choice):\n",
    "    \n",
    "    temp_feat = feat_rel[np.isin(q_rel, qid)]\n",
    "    temp_label = label_rel[np.isin(q_rel, qid)]\n",
    "    \n",
    "    m = temp_feat.shape[0]\n",
    "    \n",
    "    # First URL\n",
    "    for i in range(m):\n",
    "        \n",
    "        # Second URL\n",
    "        for j in range(m):\n",
    "            \n",
    "            label_diff = temp_label[i] - temp_label[j]\n",
    "            \n",
    "            # Repeat importance: duplicate row |label_diff| times\n",
    "            if repeat_importance:\n",
    "                end_k = int(abs(label_diff)) + 1\n",
    "            else:\n",
    "                end_k = 1\n",
    "\n",
    "            for k in range(end_k):\n",
    "\n",
    "                # Delta features: for feature (a, b), represent as (a, b, a-b)\n",
    "                # Format: (qid, feat[i], feat[j], feat[i] - feat[j], label_diff)\n",
    "                if delta_features:\n",
    "                    new_row = np.hstack((temp_feat[i], \n",
    "                                         temp_feat[j, 1:], \n",
    "                                         temp_feat[i, 1:] - temp_feat[j, 1:],\n",
    "                                         label_diff))\n",
    "                else:\n",
    "                    new_row = np.hstack((temp_feat[i], \n",
    "                                         temp_feat[j, 1:], \n",
    "                                         label_diff))\n",
    "\n",
    "                features[idx] = new_row\n",
    "                idx += 1\n",
    "\n",
    "    print(progress + 1)\n",
    "    \n",
    "# Originally allocated array is likely too large, only save relevant rows\n",
    "features = features[~np.isnan(features[:, 0])]"
   ]
  },
  {
   "cell_type": "code",
   "execution_count": 144,
   "metadata": {},
   "outputs": [],
   "source": [
    "# # Save train/val features\n",
    "# train_feat = features\n",
    "val_feat = features"
   ]
  },
  {
   "cell_type": "code",
   "execution_count": 145,
   "metadata": {},
   "outputs": [
    {
     "data": {
      "text/plain": [
       "((19795, 2102), (5817, 2102))"
      ]
     },
     "execution_count": 145,
     "metadata": {},
     "output_type": "execute_result"
    }
   ],
   "source": [
    "train_feat.shape, val_feat.shape"
   ]
  },
  {
   "cell_type": "code",
   "execution_count": 146,
   "metadata": {},
   "outputs": [],
   "source": [
    "# To work with model\n",
    "test_feat = val_feat"
   ]
  },
  {
   "cell_type": "markdown",
   "metadata": {},
   "source": [
    "## Model"
   ]
  },
  {
   "cell_type": "code",
   "execution_count": 147,
   "metadata": {},
   "outputs": [
    {
     "name": "stdout",
     "output_type": "stream",
     "text": [
      "Model fitted\n",
      "Query 21553, m=6:\n",
      "\tMAP:     1.0000\n",
      "\tNDCG@1:  1.0000\n",
      "\tNDCG@3:  1.0000\n",
      "\tNDCG@5:  1.0000\n",
      "\tNDCG@10: 1.0000\n",
      "\tNDCG@m:  1.0000\n",
      "Query 22292, m=31:\n",
      "\tMAP:     0.9087\n",
      "\tNDCG@1:  0.6667\n",
      "\tNDCG@3:  0.5867\n",
      "\tNDCG@5:  0.5189\n",
      "\tNDCG@10: 0.6442\n",
      "\tNDCG@m:  0.8195\n",
      "Query 22459, m=50:\n",
      "\tMAP:     0.9207\n",
      "\tNDCG@1:  0.2500\n",
      "\tNDCG@3:  0.5087\n",
      "\tNDCG@5:  0.5072\n",
      "\tNDCG@10: 0.5055\n",
      "\tNDCG@m:  0.7855\n",
      "Query 22486, m=32:\n",
      "\tMAP:     0.5441\n",
      "\tNDCG@1:  0.0000\n",
      "\tNDCG@3:  0.2398\n",
      "\tNDCG@5:  0.3276\n",
      "\tNDCG@10: 0.4653\n",
      "\tNDCG@m:  0.6350\n",
      "Query 22520, m=36:\n",
      "\tMAP:     0.7870\n",
      "\tNDCG@1:  0.5000\n",
      "\tNDCG@3:  0.4319\n",
      "\tNDCG@5:  0.6168\n",
      "\tNDCG@10: 0.7063\n",
      "\tNDCG@m:  0.8188\n",
      "\n",
      "Overall:\n",
      "\tMAP:     0.8321\n",
      "\tNDCG@1:  0.4833\n",
      "\tNDCG@3:  0.5534\n",
      "\tNDCG@5:  0.5941\n",
      "\tNDCG@10: 0.6643\n",
      "\tNDCG@m:  0.8118\n"
     ]
    }
   ],
   "source": [
    "\"\"\" TRAIN \"\"\"\n",
    "# Features does not include i, j, does includes query_id\n",
    "X_train = train_feat[:, :-1]\n",
    "y_train = train_feat[:, -1]\n",
    "\n",
    "# Same parameters for all calls to ensure consistency\n",
    "xgbr = XGBRegressor(max_depth=6, \n",
    "                    learning_rate=0.1,\n",
    "                    n_estimators=100, # Change to make faster OR more powerful (?)\n",
    "                    objective='reg:squarederror')\n",
    "\n",
    "xgbr.fit(X_train, y_train)\n",
    "\n",
    "print('Model fitted')\n",
    "\n",
    "\"\"\" TEST \"\"\"\n",
    "# Want to make predictions on every URL pair within a query, for all queries\n",
    "X_test = test_feat[:, :-1]\n",
    "y_test = test_feat[:, -1]\n",
    "y_pred = xgbr.predict(X_test)\n",
    "\n",
    "# Record results over all queries\n",
    "MAP = 0\n",
    "NDCG1, NDCG3, NDCG5, NDCG10, NDCGM = 0, 0, 0, 0, 0\n",
    "\n",
    "# Save rankings (to visually compare)\n",
    "r_ls = []\n",
    "\n",
    "# For each query, make a prediction array (scores)\n",
    "for qid in np.unique(X_test[:, 0]):\n",
    "\n",
    "    # m will be the number of URLs per given query ID\n",
    "    m = int(np.sqrt(np.sum(X_test[:, 0] == qid)))\n",
    "\n",
    "    # Save y_pred only for query of interest as y_pq, reshape in order to sum across rows\n",
    "    # Note that the default order='C' in reshape is fine (row-major)\n",
    "    # Setting order='F' will result in roughly the same result, just reversed since the \n",
    "    # learned labels correspond to (URLi - URLj)\n",
    "    y_pq = y_pred[X_test[:, 0] == qid]\n",
    "    y_pq = y_pq.reshape(m, m, order='C')\n",
    "\n",
    "    # Apply logistic function\n",
    "    y_pq = expit(y_pq)\n",
    "\n",
    "    # Sum across rows to get 'power' of each individual training example\n",
    "    # Get order using the scores as indices\n",
    "    scores = np.sum(y_pq, axis=0)\n",
    "    order = np.argsort(scores)\n",
    "\n",
    "    # Apply order to original labels\n",
    "    y_orig = label_rel[feat_rel[:, 0] == qid]\n",
    "    r = y_orig[order]\n",
    "    \n",
    "    # Save ranking\n",
    "    r_ls.append(r)\n",
    "\n",
    "    # Get results\n",
    "    m_a_p = mean_average_precision([r])\n",
    "    n1, n3, n5, n10, nm = ndcg_at_k(r=r, k=1),ndcg_at_k(r=r, k=3), ndcg_at_k(r=r, k=5), ndcg_at_k(r=r, k=10), ndcg_at_k(r=r, k=m)\n",
    "\n",
    "    # Update overall results\n",
    "    MAP += m_a_p\n",
    "    NDCG1 += n1\n",
    "    NDCG3 += n3\n",
    "    NDCG5 += n5\n",
    "    NDCG10 += n10\n",
    "    NDCGM += nm\n",
    "\n",
    "    # Results for query\n",
    "    print('Query %d, m=%d:' % (qid, m))\n",
    "    print('\\tMAP:     %.4f' % m_a_p)\n",
    "    print('\\tNDCG@1:  %.4f' % n1)\n",
    "    print('\\tNDCG@3:  %.4f' % n3)\n",
    "    print('\\tNDCG@5:  %.4f' % n5)\n",
    "    print('\\tNDCG@10: %.4f' % n10)\n",
    "    print('\\tNDCG@m:  %.4f' % nm)\n",
    "\n",
    "# Results over all queries\n",
    "print('\\nOverall:')\n",
    "print('\\tMAP:     %.4f' % (MAP / size))\n",
    "print('\\tNDCG@1:  %.4f' % (NDCG1 / size))\n",
    "print('\\tNDCG@3:  %.4f' % (NDCG3 / size))\n",
    "print('\\tNDCG@5:  %.4f' % (NDCG5 / size))\n",
    "print('\\tNDCG@10: %.4f' % (NDCG10 / size))\n",
    "print('\\tNDCG@m:  %.4f' % (NDCGM / size))"
   ]
  },
  {
   "cell_type": "code",
   "execution_count": 148,
   "metadata": {},
   "outputs": [
    {
     "data": {
      "text/plain": [
       "[array([2., 1., 1., 1., 1., 1.], dtype=float32),\n",
       " array([2., 2., 1., 0., 1., 2., 2., 3., 1., 2., 1., 1., 1., 0., 2., 1., 1.,\n",
       "        1., 3., 3., 1., 2., 1., 2., 1., 1., 2., 1., 2., 1., 2.],\n",
       "       dtype=float32),\n",
       " array([1., 1., 4., 1., 1., 1., 1., 1., 1., 1., 2., 3., 1., 1., 2., 1., 2.,\n",
       "        0., 2., 2., 1., 2., 1., 0., 0., 2., 1., 0., 0., 0., 1., 1., 1., 1.,\n",
       "        1., 1., 1., 1., 3., 1., 1., 2., 1., 1., 1., 1., 1., 1., 1., 1.],\n",
       "       dtype=float32),\n",
       " array([0., 0., 2., 1., 1., 2., 0., 1., 0., 2., 0., 1., 2., 1., 0., 0., 0.,\n",
       "        0., 0., 1., 0., 1., 0., 1., 0., 0., 0., 0., 0., 0., 0., 1.],\n",
       "       dtype=float32),\n",
       " array([1., 1., 0., 2., 1., 1., 1., 1., 1., 1., 1., 0., 0., 1., 0., 1., 1.,\n",
       "        1., 0., 0., 1., 0., 1., 1., 1., 0., 2., 1., 0., 1., 1., 1., 1., 1.,\n",
       "        0., 1.], dtype=float32)]"
      ]
     },
     "execution_count": 148,
     "metadata": {},
     "output_type": "execute_result"
    }
   ],
   "source": [
    "r_ls"
   ]
  },
  {
   "cell_type": "markdown",
   "metadata": {},
   "source": [
    "## Testing"
   ]
  },
  {
   "cell_type": "markdown",
   "metadata": {},
   "source": [
    "    ----------------------------------------\n",
    "    Seed = 1, 10/5 train/test query split\n",
    "    \n",
    "    delta_features = False\n",
    "    Overall:\n",
    "        MAP:     0.8772\n",
    "        NDCG@1:  0.7167\n",
    "        NDCG@3:  0.6580\n",
    "        NDCG@5:  0.6551\n",
    "        NDCG@10: 0.7511\n",
    "        NDCG@m:  0.8404\n",
    "        \n",
    "    delta_features = True\n",
    "    Overall:\n",
    "        MAP:     0.9184\n",
    "        NDCG@1:  0.8000\n",
    "        NDCG@3:  0.8254\n",
    "        NDCG@5:  0.7619\n",
    "        NDCG@10: 0.8207\n",
    "        NDCG@m:  0.8969\n",
    "        \n",
    "    ----------------------------------------\n",
    "    Seed = 2, 10/5 train/test query split\n",
    "    \n",
    "    delta_features = False\n",
    "    Overall:\n",
    "        MAP:     0.8719\n",
    "        NDCG@1:  0.6833\n",
    "        NDCG@3:  0.7657\n",
    "        NDCG@5:  0.7592\n",
    "        NDCG@10: 0.7537\n",
    "        NDCG@m:  0.8828\n",
    "        \n",
    "    delta_features = True\n",
    "    Overall:\n",
    "        MAP:     0.8321\n",
    "        NDCG@1:  0.4833\n",
    "        NDCG@3:  0.5534\n",
    "        NDCG@5:  0.5941\n",
    "        NDCG@10: 0.6643\n",
    "        NDCG@m:  0.8118\n",
    "\n",
    "    ----------------------------------------\n",
    "    \n",
    "    \n",
    "    \n",
    "    \n",
    "    \n",
    "    \n",
    "    \n",
    "    Seed = 2 (train), Seed = 1 (test), delta_features = False, 10 train/5 test queries\n",
    "    Overall:\n",
    "        MAP:     0.8830\n",
    "        NDCG@1:  0.7667\n",
    "        NDCG@3:  0.6900\n",
    "        NDCG@5:  0.6284\n",
    "        NDCG@10: 0.6952\n",
    "        NDCG@m:  0.8401"
   ]
  }
 ],
 "metadata": {
  "kernelspec": {
   "display_name": "Python 3",
   "language": "python",
   "name": "python3"
  },
  "language_info": {
   "codemirror_mode": {
    "name": "ipython",
    "version": 3
   },
   "file_extension": ".py",
   "mimetype": "text/x-python",
   "name": "python",
   "nbconvert_exporter": "python",
   "pygments_lexer": "ipython3",
   "version": "3.6.9"
  }
 },
 "nbformat": 4,
 "nbformat_minor": 2
}

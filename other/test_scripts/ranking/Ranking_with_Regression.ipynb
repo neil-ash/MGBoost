{
 "cells": [
  {
   "cell_type": "markdown",
   "metadata": {},
   "source": [
    "# Ranking using regression\n",
    "\n",
    "Implementation of pairwise ranking through regression, using xgboost.\n",
    "\n",
    "****\n",
    "\n",
    "**Plan:**\n",
    "- Generate data\n",
    "    - Features: like previously (random normal)\n",
    "    - Labels: uniform at random from (20, 40, 80, 100, 120)\n",
    "- Setup training data\n",
    "    - Xi, Xj, Xi - Xj, yi - yj\n",
    "    - For all possible pairs of feaure rows\n",
    "    - **(?) Repeat training data yi-yj times (?)**\n",
    "        - Do this for classification...\n",
    "    - Arrange labels in m x m matrix (?)\n",
    "        - For later step\n",
    "        - **No -- only applicable for making predictions**\n",
    "- Learn xgboost regressor on training data\n",
    "- Output predictions from xgboost regressor\n",
    "    - Store predictions in m x m matrix\n",
    "    - Apply sigmoid (logit) function to scores in predictions matrix\n",
    "    - Sum across rows (?) in predictions matrix to get final score for each row\n",
    "    - Use each final score to rank"
   ]
  },
  {
   "cell_type": "code",
   "execution_count": 1,
   "metadata": {},
   "outputs": [],
   "source": [
    "import numpy as np\n",
    "from xgboost import XGBRegressor"
   ]
  },
  {
   "cell_type": "code",
   "execution_count": 2,
   "metadata": {},
   "outputs": [],
   "source": [
    "# For reproducible results\n",
    "np.random.seed(1)\n",
    "\n",
    "# Dimensions of generated data\n",
    "m = 1000    # Training examples\n",
    "n = 5       # Features"
   ]
  },
  {
   "cell_type": "code",
   "execution_count": 3,
   "metadata": {},
   "outputs": [],
   "source": [
    "# Generate features randomly (gaussian)\n",
    "X = np.random.normal(loc=0, scale=1, size=(m, n))\n",
    "\n",
    "# Generate labels from uniform distribution with given values\n",
    "# y_values = [20, 40, 80, 100, 120]\n",
    "y_values = [1, 2, 3, 4, 5]\n",
    "y = np.random.choice(a=y_values, size=m, replace=True)"
   ]
  },
  {
   "cell_type": "code",
   "execution_count": 4,
   "metadata": {},
   "outputs": [
    {
     "name": "stdout",
     "output_type": "stream",
     "text": [
      "0\n",
      "100\n",
      "200\n",
      "300\n",
      "400\n",
      "500\n",
      "600\n",
      "700\n",
      "800\n",
      "900\n"
     ]
    }
   ],
   "source": [
    "max_diff = max(y_values) - min(y_values)\n",
    "train = np.full(shape=(m * m * max_diff, 3 * n + 1), fill_value=np.nan)\n",
    "\n",
    "for i in range(m):\n",
    "    \n",
    "    for j in range(m):\n",
    "        \n",
    "        y_diff = y[i] - y[j]\n",
    "\n",
    "        for k in range(int(abs(y_diff)) + 1):\n",
    "            row_new = np.hstack((X[i, :], X[j, :], X[i, :] - X[j, :], y_diff))\n",
    "            train[m * i + m * j + k] = row_new\n",
    "    \n",
    "    if i % 100 == 0: print(i)"
   ]
  },
  {
   "cell_type": "code",
   "execution_count": 5,
   "metadata": {},
   "outputs": [
    {
     "data": {
      "text/plain": [
       "(9922, 16)"
      ]
     },
     "execution_count": 5,
     "metadata": {},
     "output_type": "execute_result"
    }
   ],
   "source": [
    "train[~np.isnan(train[:, 0])].shape"
   ]
  }
 ],
 "metadata": {
  "kernelspec": {
   "display_name": "Python 3",
   "language": "python",
   "name": "python3"
  },
  "language_info": {
   "codemirror_mode": {
    "name": "ipython",
    "version": 3
   },
   "file_extension": ".py",
   "mimetype": "text/x-python",
   "name": "python",
   "nbconvert_exporter": "python",
   "pygments_lexer": "ipython3",
   "version": "3.6.9"
  }
 },
 "nbformat": 4,
 "nbformat_minor": 2
}
